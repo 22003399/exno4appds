{
  "nbformat": 4,
  "nbformat_minor": 0,
  "metadata": {
    "colab": {
      "provenance": []
    },
    "kernelspec": {
      "name": "python3",
      "display_name": "Python 3"
    },
    "language_info": {
      "name": "python"
    }
  },
  "cells": [
    {
      "cell_type": "code",
      "source": [
        "import numpy as np\n",
        "import matplotlib.pyplot as plt\n",
        "x=np.array([1,2,3,4,5,6,7,8,9,10])\n",
        "y=np.tan(x)\n",
        "z=np.sin(x)"
      ],
      "metadata": {
        "id": "3FBZDPLIiCDc"
      },
      "execution_count": null,
      "outputs": []
    },
    {
      "cell_type": "code",
      "source": [],
      "metadata": {
        "id": "gnbQ2AIzidJr"
      },
      "execution_count": null,
      "outputs": []
    },
    {
      "cell_type": "code",
      "source": [
        "a=np.arange(1,20)\n",
        "b=np.log(a)\n",
        "c=np.cos(a)\n"
      ],
      "metadata": {
        "id": "c7JZ2MqdidIO"
      },
      "execution_count": null,
      "outputs": []
    },
    {
      "cell_type": "code",
      "source": [
        "pip install pygal"
      ],
      "metadata": {
        "colab": {
          "base_uri": "https://localhost:8080/"
        },
        "id": "-b-geG3S_EwY",
        "outputId": "e759bdd8-5288-4704-c050-e4f47a8c269d"
      },
      "execution_count": null,
      "outputs": [
        {
          "output_type": "stream",
          "name": "stdout",
          "text": [
            "Collecting pygal\n",
            "  Downloading pygal-3.0.5-py3-none-any.whl.metadata (3.5 kB)\n",
            "Requirement already satisfied: importlib-metadata in /usr/local/lib/python3.10/dist-packages (from pygal) (8.5.0)\n",
            "Requirement already satisfied: zipp>=3.20 in /usr/local/lib/python3.10/dist-packages (from importlib-metadata->pygal) (3.20.2)\n",
            "Downloading pygal-3.0.5-py3-none-any.whl (129 kB)\n",
            "\u001b[?25l   \u001b[90m━━━━━━━━━━━━━━━━━━━━━━━━━━━━━━━━━━━━━━━━\u001b[0m \u001b[32m0.0/129.5 kB\u001b[0m \u001b[31m?\u001b[0m eta \u001b[36m-:--:--\u001b[0m\r\u001b[2K   \u001b[90m━━━━━━━━━━━━━━━━━━━━━━━━━━━━━━━━━━━━━━━━\u001b[0m \u001b[32m129.5/129.5 kB\u001b[0m \u001b[31m4.4 MB/s\u001b[0m eta \u001b[36m0:00:00\u001b[0m\n",
            "\u001b[?25hInstalling collected packages: pygal\n",
            "Successfully installed pygal-3.0.5\n"
          ]
        }
      ]
    },
    {
      "cell_type": "code",
      "source": [
        "import pygal\n",
        "from pygal.style import Style\n",
        "# Create a custom style\n",
        "\n",
        "# Create a line chart\n",
        "\n",
        "# Render the chart to a file\n"
      ],
      "metadata": {
        "id": "tTbtdcAQ-7Gy"
      },
      "execution_count": null,
      "outputs": []
    },
    {
      "cell_type": "code",
      "source": [
        "line_chart"
      ],
      "metadata": {
        "id": "80eITBftAlnb"
      },
      "execution_count": null,
      "outputs": []
    },
    {
      "cell_type": "code",
      "source": [
        "from bokeh.models import HoverTool\n",
        "from bokeh.plotting import figure, show\n",
        "from bokeh.io import output_notebook\n",
        "\n",
        "output_notebook()\n",
        "p = figure(title=\"Scatter Plot with Hover Tool\",\n",
        "           x_axis_label='X-Axis', y_axis_label='Y-Axis')\n",
        "\n",
        "# Add HoverTool\n",
        "\n",
        "\n",
        "# Show the plot\n"
      ],
      "metadata": {
        "id": "CLO-U3_NAFyy"
      },
      "execution_count": null,
      "outputs": []
    },
    {
      "cell_type": "code",
      "source": [
        "pip install plotnine"
      ],
      "metadata": {
        "colab": {
          "base_uri": "https://localhost:8080/"
        },
        "id": "QtX9ECLLFVGI",
        "outputId": "3814fe9c-cbb8-4a06-883c-265b45b1f1ad"
      },
      "execution_count": null,
      "outputs": [
        {
          "output_type": "stream",
          "name": "stdout",
          "text": [
            "Requirement already satisfied: plotnine in /usr/local/lib/python3.10/dist-packages (0.13.6)\n",
            "Requirement already satisfied: matplotlib>=3.7.0 in /usr/local/lib/python3.10/dist-packages (from plotnine) (3.7.1)\n",
            "Requirement already satisfied: pandas<3.0.0,>=2.1.0 in /usr/local/lib/python3.10/dist-packages (from plotnine) (2.2.2)\n",
            "Requirement already satisfied: mizani~=0.11.0 in /usr/local/lib/python3.10/dist-packages (from plotnine) (0.11.4)\n",
            "Requirement already satisfied: numpy>=1.23.0 in /usr/local/lib/python3.10/dist-packages (from plotnine) (1.26.4)\n",
            "Requirement already satisfied: scipy>=1.7.0 in /usr/local/lib/python3.10/dist-packages (from plotnine) (1.13.1)\n",
            "Requirement already satisfied: statsmodels>=0.14.0 in /usr/local/lib/python3.10/dist-packages (from plotnine) (0.14.4)\n",
            "Requirement already satisfied: contourpy>=1.0.1 in /usr/local/lib/python3.10/dist-packages (from matplotlib>=3.7.0->plotnine) (1.3.0)\n",
            "Requirement already satisfied: cycler>=0.10 in /usr/local/lib/python3.10/dist-packages (from matplotlib>=3.7.0->plotnine) (0.12.1)\n",
            "Requirement already satisfied: fonttools>=4.22.0 in /usr/local/lib/python3.10/dist-packages (from matplotlib>=3.7.0->plotnine) (4.54.1)\n",
            "Requirement already satisfied: kiwisolver>=1.0.1 in /usr/local/lib/python3.10/dist-packages (from matplotlib>=3.7.0->plotnine) (1.4.7)\n",
            "Requirement already satisfied: packaging>=20.0 in /usr/local/lib/python3.10/dist-packages (from matplotlib>=3.7.0->plotnine) (24.1)\n",
            "Requirement already satisfied: pillow>=6.2.0 in /usr/local/lib/python3.10/dist-packages (from matplotlib>=3.7.0->plotnine) (10.4.0)\n",
            "Requirement already satisfied: pyparsing>=2.3.1 in /usr/local/lib/python3.10/dist-packages (from matplotlib>=3.7.0->plotnine) (3.1.4)\n",
            "Requirement already satisfied: python-dateutil>=2.7 in /usr/local/lib/python3.10/dist-packages (from matplotlib>=3.7.0->plotnine) (2.8.2)\n",
            "Requirement already satisfied: pytz>=2020.1 in /usr/local/lib/python3.10/dist-packages (from pandas<3.0.0,>=2.1.0->plotnine) (2024.2)\n",
            "Requirement already satisfied: tzdata>=2022.7 in /usr/local/lib/python3.10/dist-packages (from pandas<3.0.0,>=2.1.0->plotnine) (2024.2)\n",
            "Requirement already satisfied: patsy>=0.5.6 in /usr/local/lib/python3.10/dist-packages (from statsmodels>=0.14.0->plotnine) (0.5.6)\n",
            "Requirement already satisfied: six in /usr/local/lib/python3.10/dist-packages (from patsy>=0.5.6->statsmodels>=0.14.0->plotnine) (1.16.0)\n"
          ]
        }
      ]
    },
    {
      "source": [
        "import pandas as pd\n",
        "import seaborn as sns\n",
        "from plotnine import ggplot, aes, facet_grid, labs, geom_col, theme_xkcd\n",
        "\n",
        "# reading dataset\n",
        "df = sns.load_dataset(\"tips\")\n",
        "\n",
        "# Change: The 'facets' argument is replaced with a string formula directly within the 'facet_grid' call\n"
      ],
      "cell_type": "code",
      "metadata": {
        "id": "4UaS2XhSFGVp"
      },
      "execution_count": null,
      "outputs": []
    },
    {
      "cell_type": "code",
      "source": [
        "pip install altair"
      ],
      "metadata": {
        "id": "yTzGfEH3k-9E",
        "colab": {
          "base_uri": "https://localhost:8080/"
        },
        "outputId": "92a33ab7-6935-4cfd-a3de-f83a7bf72dfd"
      },
      "execution_count": null,
      "outputs": [
        {
          "output_type": "stream",
          "name": "stdout",
          "text": [
            "Requirement already satisfied: altair in /usr/local/lib/python3.10/dist-packages (4.2.2)\n",
            "Requirement already satisfied: entrypoints in /usr/local/lib/python3.10/dist-packages (from altair) (0.4)\n",
            "Requirement already satisfied: jinja2 in /usr/local/lib/python3.10/dist-packages (from altair) (3.1.4)\n",
            "Requirement already satisfied: jsonschema>=3.0 in /usr/local/lib/python3.10/dist-packages (from altair) (4.23.0)\n",
            "Requirement already satisfied: numpy in /usr/local/lib/python3.10/dist-packages (from altair) (1.26.4)\n",
            "Requirement already satisfied: pandas>=0.18 in /usr/local/lib/python3.10/dist-packages (from altair) (2.2.2)\n",
            "Requirement already satisfied: toolz in /usr/local/lib/python3.10/dist-packages (from altair) (0.12.1)\n",
            "Requirement already satisfied: attrs>=22.2.0 in /usr/local/lib/python3.10/dist-packages (from jsonschema>=3.0->altair) (24.2.0)\n",
            "Requirement already satisfied: jsonschema-specifications>=2023.03.6 in /usr/local/lib/python3.10/dist-packages (from jsonschema>=3.0->altair) (2024.10.1)\n",
            "Requirement already satisfied: referencing>=0.28.4 in /usr/local/lib/python3.10/dist-packages (from jsonschema>=3.0->altair) (0.35.1)\n",
            "Requirement already satisfied: rpds-py>=0.7.1 in /usr/local/lib/python3.10/dist-packages (from jsonschema>=3.0->altair) (0.20.0)\n",
            "Requirement already satisfied: python-dateutil>=2.8.2 in /usr/local/lib/python3.10/dist-packages (from pandas>=0.18->altair) (2.8.2)\n",
            "Requirement already satisfied: pytz>=2020.1 in /usr/local/lib/python3.10/dist-packages (from pandas>=0.18->altair) (2024.2)\n",
            "Requirement already satisfied: tzdata>=2022.7 in /usr/local/lib/python3.10/dist-packages (from pandas>=0.18->altair) (2024.2)\n",
            "Requirement already satisfied: MarkupSafe>=2.0 in /usr/local/lib/python3.10/dist-packages (from jinja2->altair) (3.0.1)\n",
            "Requirement already satisfied: six>=1.5 in /usr/local/lib/python3.10/dist-packages (from python-dateutil>=2.8.2->pandas>=0.18->altair) (1.16.0)\n"
          ]
        }
      ]
    },
    {
      "cell_type": "code",
      "source": [
        "pip install vega_datasets"
      ],
      "metadata": {
        "id": "j-FiHErwk-7d",
        "colab": {
          "base_uri": "https://localhost:8080/"
        },
        "outputId": "70d6f9d9-afe9-4e74-975e-04c5dfd0e521"
      },
      "execution_count": null,
      "outputs": [
        {
          "output_type": "stream",
          "name": "stdout",
          "text": [
            "Requirement already satisfied: vega_datasets in /usr/local/lib/python3.10/dist-packages (0.9.0)\n",
            "Requirement already satisfied: pandas in /usr/local/lib/python3.10/dist-packages (from vega_datasets) (2.2.2)\n",
            "Requirement already satisfied: numpy>=1.22.4 in /usr/local/lib/python3.10/dist-packages (from pandas->vega_datasets) (1.26.4)\n",
            "Requirement already satisfied: python-dateutil>=2.8.2 in /usr/local/lib/python3.10/dist-packages (from pandas->vega_datasets) (2.8.2)\n",
            "Requirement already satisfied: pytz>=2020.1 in /usr/local/lib/python3.10/dist-packages (from pandas->vega_datasets) (2024.2)\n",
            "Requirement already satisfied: tzdata>=2022.7 in /usr/local/lib/python3.10/dist-packages (from pandas->vega_datasets) (2024.2)\n",
            "Requirement already satisfied: six>=1.5 in /usr/local/lib/python3.10/dist-packages (from python-dateutil>=2.8.2->pandas->vega_datasets) (1.16.0)\n"
          ]
        }
      ]
    },
    {
      "cell_type": "code",
      "source": [
        "# Importing altair and pandas library\n",
        "import altair as alt\n",
        "import pandas as pd\n",
        "\n",
        "# Making a Pandas DataFrame\n",
        "score_data = pd.DataFrame({\n",
        "\t'Website': ['StackOverflow', 'FreeCodeCamp',\n",
        "\t\t\t\t'GeeksForGeeks', 'MDN', 'CodeAcademy'],\n",
        "\t'Score': [65, 50, 99, 75, 33]\n",
        "})\n",
        "\n",
        "# Making the Simple Bar Chart\n"
      ],
      "metadata": {
        "id": "uGQ_lsDEGz6o"
      },
      "execution_count": null,
      "outputs": []
    },
    {
      "cell_type": "code",
      "source": [
        "# Importing altair\n",
        "import altair as alt\n",
        "# Import data object from vega_datasets\n",
        "from vega_datasets import data\n",
        "\n",
        "# Selecting the data\n",
        "iris = data.iris()\n",
        "\n",
        "# Making the Scatter Plot\n"
      ],
      "metadata": {
        "id": "krnK9mRYHCQ2"
      },
      "execution_count": null,
      "outputs": []
    },
    {
      "cell_type": "code",
      "source": [
        "# importing package\n",
        "import altair as alt\n",
        "import pandas as pd\n",
        "\n",
        "# create data\n",
        "data = pd.DataFrame([['A', 10, 20],\n",
        "\t\t\t\t\t['B', 5, 29],\n",
        "\t\t\t\t\t['A', 15, 29],\n",
        "\t\t\t\t\t['B', 15, 20]],\n",
        "\t\t\t\t\tcolumns=['Team', 'Round 1', 'Round 2'])\n",
        "# view data\n",
        "print(data)\n",
        "\n"
      ],
      "metadata": {
        "id": "9aVAvCg9HJb_"
      },
      "execution_count": null,
      "outputs": []
    },
    {
      "cell_type": "code",
      "source": [
        "import geopandas as gpd\n",
        "import folium"
      ],
      "metadata": {
        "id": "6Gp9sD6QejaW"
      },
      "execution_count": null,
      "outputs": []
    },
    {
      "cell_type": "code",
      "source": [
        "# import the folium, pandas libraries\n",
        "import folium\n",
        "import pandas as pd\n",
        "\n",
        "# initialize the map and store it in a m object\n",
        "\n",
        "# show the map\n"
      ],
      "metadata": {
        "id": "4NsA8jjqemba"
      },
      "execution_count": null,
      "outputs": []
    },
    {
      "cell_type": "code",
      "source": [
        "m"
      ],
      "metadata": {
        "id": "BiT7aiy8fOoT"
      },
      "execution_count": null,
      "outputs": []
    },
    {
      "cell_type": "code",
      "source": [],
      "metadata": {
        "id": "qypHy2NjgVQg"
      },
      "execution_count": null,
      "outputs": []
    }
  ]
}